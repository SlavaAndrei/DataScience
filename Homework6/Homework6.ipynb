{
  "cells": [
    {
      "cell_type": "markdown",
      "metadata": {
        "id": "view-in-github",
        "colab_type": "text"
      },
      "source": [
        "<a href=\"https://colab.research.google.com/github/SlavaAndrei/DataScience/blob/main/Homework6%5CHomework6.ipynb\" target=\"_parent\"><img src=\"https://colab.research.google.com/assets/colab-badge.svg\" alt=\"Open In Colab\"/></a>"
      ]
    },
    {
      "cell_type": "code",
      "execution_count": null,
      "id": "c43b262b-c5dd-4b18-a659-4e1610e33842",
      "metadata": {
        "id": "c43b262b-c5dd-4b18-a659-4e1610e33842",
        "outputId": "34ae9d91-6158-4775-8bcc-be5defd0e69a"
      },
      "outputs": [
        {
          "name": "stdout",
          "output_type": "stream",
          "text": [
            "Requirement already satisfied: psycopg2-binary in /usr/local/Cellar/jupyterlab/4.0.9_2/libexec/lib/python3.12/site-packages (2.9.9)\n"
          ]
        }
      ],
      "source": [
        "import sys\n",
        "!{sys.executable} -m pip install psycopg2-binary"
      ]
    },
    {
      "cell_type": "code",
      "execution_count": null,
      "id": "72bf58d7-566c-4a7e-a04d-eedb083c6457",
      "metadata": {
        "id": "72bf58d7-566c-4a7e-a04d-eedb083c6457",
        "outputId": "ea81d8b6-d247-45e6-bfaf-ab0bce9a827a"
      },
      "outputs": [
        {
          "name": "stdout",
          "output_type": "stream",
          "text": [
            "\n",
            "Соединение с БД установлено <connection object at 0x109f36e30; dsn: 'user=admin password=xxx dbname=admin host=0.0.0.0 port=5432', closed: 0> \n",
            "\n",
            "выполнен запрос к БД: 'create table if not exists users(\n",
            "            id serial primary key,\n",
            "            name varchar not null,\n",
            "            age int,\n",
            "            gender varchar,\n",
            "            nationality varchar);' \n",
            "\n",
            "Выполнен следующий запрос к БД: 'SELECT * FROM users LIMIT 10'\n",
            "Результат запроса: \n",
            "(1, 'James', 25, 'male', 'USA')\n",
            "(2, 'Leila', 32, 'female', 'France')\n",
            "(3, 'Brigitte', 35, 'female', 'England')\n",
            "(4, 'Mike', 40, 'male', 'Denmark')\n",
            "(5, 'Elizabeth', 21, 'female', 'Canada')\n",
            "(6, 'James', 25, 'male', 'USA')\n",
            "(7, 'Leila', 32, 'female', 'France')\n",
            "(8, 'Brigitte', 35, 'female', 'England')\n",
            "(9, 'Mike', 40, 'male', 'Denmark')\n",
            "(10, 'Elizabeth', 21, 'female', 'Canada')\n",
            "выполнен запрос к БД: 'INSERT INTO users \n",
            "    (name, age, gender, nationality)\n",
            "    VALUES\n",
            "      ('James', 25, 'male', 'USA'),\n",
            "      ('Leila', 32, 'female', 'France'),\n",
            "      ('Brigitte', 35, 'female', 'England'),\n",
            "      ('Mike', 40, 'male', 'Denmark'),\n",
            "      ('Elizabeth', 21, 'female', 'Canada');' \n",
            "\n"
          ]
        }
      ],
      "source": [
        "from psycopg2 import connect as connect\n",
        "\n",
        "\n",
        "# функция проверки подключения к БД\n",
        "def _get_db_session():\n",
        "    try:\n",
        "        conn = connect(\n",
        "            dbname='admin',\n",
        "            user='admin',\n",
        "            password='admin',\n",
        "            host='0.0.0.0',\n",
        "            port=5432)\n",
        "        print(\"\\nСоединение с БД установлено\", conn, \"\\n\")\n",
        "        return conn\n",
        "    except Exception as e:\n",
        "        print('БД не доступна. Проверьте Docker', e)\n",
        "        return False\n",
        "\n",
        "\n",
        "# функция выполнения запроса к БД c получением ответа\n",
        "def query_get(conn, query: str) -> dict:\n",
        "    with conn.cursor() as curs:\n",
        "        curs.execute(query)\n",
        "        result = curs.fetchall()\n",
        "        return result\n",
        "\n",
        "\n",
        "# функция выполнения запроса к БД не предполагающая получения ответа\n",
        "def query_set(conn, query: str):\n",
        "    with conn.cursor() as curs:\n",
        "        curs.execute(query)\n",
        "        conn.commit()\n",
        "        print(f\"выполнен запрос к БД: '{query}' \\n\")\n",
        "\n",
        "\n",
        "# функция построчного вывода на экран результатов запроса\n",
        "def query_n_print(conn, query_read: str):\n",
        "    print(f\"Выполнен следующий запрос к БД: '{query_read}'\")\n",
        "    print(\"Результат запроса: \")\n",
        "    result = query_get(conn, query_read)\n",
        "    for row in result:\n",
        "        print(row)\n",
        "\n",
        "\n",
        "# проверкв подключения к БД\n",
        "dbconnect = _get_db_session()\n",
        "if dbconnect is False:\n",
        "    print(\"БД не подключена. \\nПрограмма завершена\")\n",
        "else:\n",
        "    conn = dbconnect\n",
        "\n",
        "    # создание таблицы users в БД (если не существует)\n",
        "    query_create_table = \"\"\"create table if not exists users(\n",
        "            id serial primary key,\n",
        "            name varchar not null,\n",
        "            age int,\n",
        "            gender varchar,\n",
        "            nationality varchar);\"\"\"\n",
        "    query_set(conn, query_create_table)\n",
        "\n",
        "    # получение первых 10 записей из таблицы users\n",
        "    query_read = \"\"\"SELECT * FROM users LIMIT 10\"\"\"\n",
        "    query_n_print(conn, query_read)\n",
        "\n",
        "    # добавление записей в таблицу users. Вариант №1\n",
        "    query_add_table = \"\"\"INSERT INTO users\n",
        "    (name, age, gender, nationality)\n",
        "    VALUES\n",
        "      ('James', 25, 'male', 'USA'),\n",
        "      ('Leila', 32, 'female', 'France'),\n",
        "      ('Brigitte', 35, 'female', 'England'),\n",
        "      ('Mike', 40, 'male', 'Denmark'),\n",
        "      ('Elizabeth', 21, 'female', 'Canada');\"\"\"\n",
        "    query_set(conn, query_add_table)\n"
      ]
    },
    {
      "cell_type": "code",
      "execution_count": null,
      "id": "5b79ecef-4298-41b6-9943-8c87863ff3ed",
      "metadata": {
        "id": "5b79ecef-4298-41b6-9943-8c87863ff3ed",
        "outputId": "15745ec3-f06a-4e94-d67d-34c4c5fb64da"
      },
      "outputs": [
        {
          "name": "stdin",
          "output_type": "stream",
          "text": [
            "Введите запрос SQL на создание/изменение БД:  \\d\n"
          ]
        },
        {
          "name": "stdout",
          "output_type": "stream",
          "text": [
            "запрос в БД не выполнен: syntax error at or near \"\\\"\n",
            "LINE 1: \\d\n",
            "        ^\n",
            "\n"
          ]
        }
      ],
      "source": [
        "# выполнение произвольного запроса к БД на запись/изменение БД\n",
        "query_save = input(\"Введите запрос SQL на создание/изменение БД: \")\n",
        "try:\n",
        "    query_set(conn, query_save)\n",
        "except Exception as e:\n",
        "    print(\"запрос в БД не выполнен:\", e)"
      ]
    },
    {
      "cell_type": "code",
      "execution_count": null,
      "id": "f855b862-10e4-4310-8e1d-fb22ac5a2eae",
      "metadata": {
        "id": "f855b862-10e4-4310-8e1d-fb22ac5a2eae",
        "outputId": "d62a96fe-0d6d-494a-8656-cc1036522ca7"
      },
      "outputs": [
        {
          "name": "stdin",
          "output_type": "stream",
          "text": [
            "Введите запрос SQL на получение данных из БД:  select age from users\n"
          ]
        },
        {
          "name": "stdout",
          "output_type": "stream",
          "text": [
            "Выполнен следующий запрос к БД: 'select age from users'\n",
            "Результат запроса: \n",
            "(25,)\n",
            "(32,)\n",
            "(35,)\n",
            "(40,)\n",
            "(21,)\n",
            "(25,)\n",
            "(32,)\n",
            "(35,)\n",
            "(40,)\n",
            "(21,)\n",
            "(25,)\n",
            "(32,)\n",
            "(35,)\n",
            "(40,)\n",
            "(21,)\n",
            "(25,)\n",
            "(32,)\n",
            "(35,)\n",
            "(40,)\n",
            "(21,)\n",
            "(25,)\n",
            "(32,)\n",
            "(35,)\n",
            "(40,)\n",
            "(21,)\n",
            "(25,)\n",
            "(32,)\n",
            "(35,)\n",
            "(40,)\n",
            "(21,)\n",
            "(25,)\n",
            "(32,)\n",
            "(35,)\n",
            "(40,)\n",
            "(21,)\n",
            "(25,)\n",
            "(32,)\n",
            "(35,)\n",
            "(40,)\n",
            "(21,)\n",
            "(25,)\n",
            "(32,)\n",
            "(35,)\n",
            "(40,)\n",
            "(21,)\n",
            "(25,)\n",
            "(32,)\n",
            "(35,)\n",
            "(40,)\n",
            "(21,)\n",
            "(25,)\n",
            "(32,)\n",
            "(35,)\n",
            "(40,)\n",
            "(21,)\n",
            "(25,)\n",
            "(32,)\n",
            "(35,)\n",
            "(40,)\n",
            "(21,)\n",
            "(25,)\n",
            "(32,)\n",
            "(35,)\n",
            "(40,)\n",
            "(21,)\n"
          ]
        }
      ],
      "source": [
        "# выполнение произвольного запроса на получение данных из БД\n",
        "query_read = input(\"Введите запрос SQL на получение данных из БД: \")\n",
        "try:\n",
        "    query_n_print(conn, query_read)\n",
        "except Exception as e:\n",
        "    print(\"запрос в БД не выполнен:\", e)"
      ]
    },
    {
      "cell_type": "code",
      "execution_count": null,
      "id": "8a0172b2-331d-4197-9999-20805679b42e",
      "metadata": {
        "id": "8a0172b2-331d-4197-9999-20805679b42e",
        "outputId": "873e493c-38fa-42fd-d7b6-9bb907a5de7f"
      },
      "outputs": [
        {
          "name": "stdout",
          "output_type": "stream",
          "text": [
            "Выполнен следующий запрос к БД: 'SELECT name from users WHERE age > 30'\n",
            "Результат запроса: \n",
            "('Leila',)\n",
            "('Brigitte',)\n",
            "('Mike',)\n",
            "('Leila',)\n",
            "('Brigitte',)\n",
            "('Mike',)\n",
            "('Leila',)\n",
            "('Brigitte',)\n",
            "('Mike',)\n",
            "('Leila',)\n",
            "('Brigitte',)\n",
            "('Mike',)\n",
            "('Leila',)\n",
            "('Brigitte',)\n",
            "('Mike',)\n",
            "('Leila',)\n",
            "('Brigitte',)\n",
            "('Mike',)\n",
            "('Leila',)\n",
            "('Brigitte',)\n",
            "('Mike',)\n",
            "('Leila',)\n",
            "('Brigitte',)\n",
            "('Mike',)\n",
            "('Leila',)\n",
            "('Brigitte',)\n",
            "('Mike',)\n",
            "('Leila',)\n",
            "('Brigitte',)\n",
            "('Mike',)\n",
            "('Leila',)\n",
            "('Brigitte',)\n",
            "('Mike',)\n",
            "('Leila',)\n",
            "('Brigitte',)\n",
            "('Mike',)\n",
            "('Leila',)\n",
            "('Brigitte',)\n",
            "('Mike',)\n",
            "Выполнен следующий запрос к БД: 'SELECT name from users WHERE age > 30 and gender = 'male''\n",
            "Результат запроса: \n",
            "('Mike',)\n",
            "('Mike',)\n",
            "('Mike',)\n",
            "('Mike',)\n",
            "('Mike',)\n",
            "('Mike',)\n",
            "('Mike',)\n",
            "('Mike',)\n",
            "('Mike',)\n",
            "('Mike',)\n",
            "('Mike',)\n",
            "('Mike',)\n",
            "('Mike',)\n"
          ]
        }
      ],
      "source": [
        "query_list = [\n",
        "    \"\"\"SELECT name from users WHERE age > 30\"\"\",\n",
        "    \"\"\"SELECT name from users WHERE age > 30 and gender = 'male'\"\"\",\n",
        "]\n",
        "try:\n",
        "    for query in query_list:\n",
        "        query_n_print(conn, query)\n",
        "except Exception as e:\n",
        "    print(\"запрос в БД не выполнен:\", e)"
      ]
    },
    {
      "cell_type": "code",
      "execution_count": null,
      "id": "a0391471-0d0b-42b3-954b-6db47df8db89",
      "metadata": {
        "id": "a0391471-0d0b-42b3-954b-6db47df8db89",
        "outputId": "0f167058-9f01-45cf-da0f-6f7b42f8a901"
      },
      "outputs": [
        {
          "name": "stdout",
          "output_type": "stream",
          "text": [
            "Выполнен следующий запрос к БД: 'SELECT gender, AVG(age) as avg_age FROM users GROUP BY gender'\n",
            "Результат запроса: \n",
            "('female', Decimal('29.3333333333333333'))\n",
            "('male', Decimal('32.5000000000000000'))\n"
          ]
        }
      ],
      "source": [
        "# SQL-запросы для выполнения агрегации данных = средний возраст по половому признаку\n",
        "query_read = \"\"\"SELECT gender, AVG(age) as avg_age FROM users GROUP BY gender\"\"\"\n",
        "try:\n",
        "    query_n_print(conn, query_read)\n",
        "except Exception as e:\n",
        "    print(\"запрос в БД не выполнен:\", e)"
      ]
    },
    {
      "cell_type": "code",
      "execution_count": null,
      "id": "181fe312-0aaa-4563-87cc-1e9e76db80a6",
      "metadata": {
        "id": "181fe312-0aaa-4563-87cc-1e9e76db80a6",
        "outputId": "7f84e704-6fe0-49e7-bb3a-9a4e1f1381f9"
      },
      "outputs": [
        {
          "name": "stdout",
          "output_type": "stream",
          "text": [
            "Выполнен следующий запрос к БД: 'SELECT name count FROM users GROUP BY name'\n",
            "Результат запроса: \n",
            "запрос в БД не выполнен: current transaction is aborted, commands ignored until end of transaction block\n",
            "\n"
          ]
        }
      ],
      "source": [
        "# SQL-запросы для выполнения агрегации данных = вывод пользователей с одинаковыми именами\n",
        "query_read = \"\"\"SELECT name count FROM users GROUP BY name\"\"\"\n",
        "try:\n",
        "    query_n_print(conn, query_read)\n",
        "except Exception as e:\n",
        "    print(\"запрос в БД не выполнен:\", e)"
      ]
    },
    {
      "cell_type": "code",
      "execution_count": null,
      "id": "c2f61dc6-f242-421d-a469-0a966f5885a5",
      "metadata": {
        "id": "c2f61dc6-f242-421d-a469-0a966f5885a5",
        "outputId": "707a3dac-ef9a-4940-cb0b-e390c8bb8846"
      },
      "outputs": [
        {
          "name": "stdout",
          "output_type": "stream",
          "text": [
            "Выполнен следующий запрос к БД: 'SELECT MIN(age) AS min_age FROM users'\n",
            "Результат запроса: \n",
            "(21,)\n"
          ]
        }
      ],
      "source": [
        "# SQL-запросы для выполнения агрегации данных = минимальный возраст пользователей женского пола\n",
        "query_read = \"\"\"SELECT MIN(age) AS min_age FROM users\"\"\"\n",
        "try:\n",
        "    query_n_print(conn, query_read)\n",
        "except Exception as e:\n",
        "    print(\"запрос в БД не выполнен:\", e)"
      ]
    },
    {
      "cell_type": "code",
      "execution_count": null,
      "id": "7394e633-f9d4-44eb-915e-dfdf06602862",
      "metadata": {
        "id": "7394e633-f9d4-44eb-915e-dfdf06602862",
        "outputId": "3d5d124b-ac57-4317-9b6a-38b5fcee4b8e"
      },
      "outputs": [
        {
          "name": "stdout",
          "output_type": "stream",
          "text": [
            "Выполнен следующий запрос к БД: 'select\n",
            "                    id,\n",
            "                    name,\n",
            "                    age,\n",
            "                    gender,\n",
            "                    nationality,\n",
            "                    row_number() OVER () AS num\n",
            "             from users '\n",
            "Результат запроса: \n",
            "(1, 'James', 25, 'male', 'USA', 1)\n",
            "(2, 'Leila', 32, 'female', 'France', 2)\n",
            "(3, 'Brigitte', 35, 'female', 'England', 3)\n",
            "(4, 'Mike', 40, 'male', 'Denmark', 4)\n",
            "(5, 'Elizabeth', 21, 'female', 'Canada', 5)\n",
            "(6, 'James', 25, 'male', 'USA', 6)\n",
            "(7, 'Leila', 32, 'female', 'France', 7)\n",
            "(8, 'Brigitte', 35, 'female', 'England', 8)\n",
            "(9, 'Mike', 40, 'male', 'Denmark', 9)\n",
            "(10, 'Elizabeth', 21, 'female', 'Canada', 10)\n",
            "(11, 'James', 25, 'male', 'USA', 11)\n",
            "(12, 'Leila', 32, 'female', 'France', 12)\n",
            "(13, 'Brigitte', 35, 'female', 'England', 13)\n",
            "(14, 'Mike', 40, 'male', 'Denmark', 14)\n",
            "(15, 'Elizabeth', 21, 'female', 'Canada', 15)\n",
            "(16, 'James', 25, 'male', 'USA', 16)\n",
            "(17, 'Leila', 32, 'female', 'France', 17)\n",
            "(18, 'Brigitte', 35, 'female', 'England', 18)\n",
            "(19, 'Mike', 40, 'male', 'Denmark', 19)\n",
            "(20, 'Elizabeth', 21, 'female', 'Canada', 20)\n",
            "(21, 'James', 25, 'male', 'USA', 21)\n",
            "(22, 'Leila', 32, 'female', 'France', 22)\n",
            "(23, 'Brigitte', 35, 'female', 'England', 23)\n",
            "(24, 'Mike', 40, 'male', 'Denmark', 24)\n",
            "(25, 'Elizabeth', 21, 'female', 'Canada', 25)\n",
            "(26, 'James', 25, 'male', 'USA', 26)\n",
            "(27, 'Leila', 32, 'female', 'France', 27)\n",
            "(28, 'Brigitte', 35, 'female', 'England', 28)\n",
            "(29, 'Mike', 40, 'male', 'Denmark', 29)\n",
            "(30, 'Elizabeth', 21, 'female', 'Canada', 30)\n",
            "(31, 'James', 25, 'male', 'USA', 31)\n",
            "(32, 'Leila', 32, 'female', 'France', 32)\n",
            "(33, 'Brigitte', 35, 'female', 'England', 33)\n",
            "(34, 'Mike', 40, 'male', 'Denmark', 34)\n",
            "(35, 'Elizabeth', 21, 'female', 'Canada', 35)\n",
            "(36, 'James', 25, 'male', 'USA', 36)\n",
            "(37, 'Leila', 32, 'female', 'France', 37)\n",
            "(38, 'Brigitte', 35, 'female', 'England', 38)\n",
            "(39, 'Mike', 40, 'male', 'Denmark', 39)\n",
            "(40, 'Elizabeth', 21, 'female', 'Canada', 40)\n",
            "(41, 'James', 25, 'male', 'USA', 41)\n",
            "(42, 'Leila', 32, 'female', 'France', 42)\n",
            "(43, 'Brigitte', 35, 'female', 'England', 43)\n",
            "(44, 'Mike', 40, 'male', 'Denmark', 44)\n",
            "(45, 'Elizabeth', 21, 'female', 'Canada', 45)\n",
            "(46, 'James', 25, 'male', 'USA', 46)\n",
            "(47, 'Leila', 32, 'female', 'France', 47)\n",
            "(48, 'Brigitte', 35, 'female', 'England', 48)\n",
            "(49, 'Mike', 40, 'male', 'Denmark', 49)\n",
            "(50, 'Elizabeth', 21, 'female', 'Canada', 50)\n",
            "(51, 'James', 25, 'male', 'USA', 51)\n",
            "(52, 'Leila', 32, 'female', 'France', 52)\n",
            "(53, 'Brigitte', 35, 'female', 'England', 53)\n",
            "(54, 'Mike', 40, 'male', 'Denmark', 54)\n",
            "(55, 'Elizabeth', 21, 'female', 'Canada', 55)\n",
            "(56, 'James', 25, 'male', 'USA', 56)\n",
            "(57, 'Leila', 32, 'female', 'France', 57)\n",
            "(58, 'Brigitte', 35, 'female', 'England', 58)\n",
            "(59, 'Mike', 40, 'male', 'Denmark', 59)\n",
            "(60, 'Elizabeth', 21, 'female', 'Canada', 60)\n",
            "(61, 'James', 25, 'male', 'USA', 61)\n",
            "(62, 'Leila', 32, 'female', 'France', 62)\n",
            "(63, 'Brigitte', 35, 'female', 'England', 63)\n",
            "(64, 'Mike', 40, 'male', 'Denmark', 64)\n",
            "(65, 'Elizabeth', 21, 'female', 'Canada', 65)\n"
          ]
        }
      ],
      "source": [
        "# использование оконных функций\n",
        "query_read = \"\"\"select\n",
        "                    id,\n",
        "                    name,\n",
        "                    age,\n",
        "                    gender,\n",
        "                    nationality,\n",
        "                    row_number() OVER () AS num\n",
        "             from users \"\"\"\n",
        "try:\n",
        "    query_n_print(conn, query_read)\n",
        "except Exception as e:\n",
        "    print(\"запрос в БД не выполнен:\", e)"
      ]
    },
    {
      "cell_type": "code",
      "execution_count": null,
      "id": "7146f56d-ed51-4319-b303-432028cfddc4",
      "metadata": {
        "id": "7146f56d-ed51-4319-b303-432028cfddc4",
        "outputId": "c8b5c486-af08-4c83-df26-9ace891c74b5"
      },
      "outputs": [
        {
          "name": "stdout",
          "output_type": "stream",
          "text": [
            "Выполнен следующий запрос к БД: 'select\n",
            "                    id,\n",
            "                    name,\n",
            "                    age,\n",
            "                    gender,\n",
            "                    nationality,\n",
            "                    row_number() OVER () AS num\n",
            "             from users ORDER BY age'\n",
            "Результат запроса: \n",
            "(65, 'Elizabeth', 21, 'female', 'Canada', 65)\n",
            "(40, 'Elizabeth', 21, 'female', 'Canada', 40)\n",
            "(30, 'Elizabeth', 21, 'female', 'Canada', 30)\n",
            "(60, 'Elizabeth', 21, 'female', 'Canada', 60)\n",
            "(35, 'Elizabeth', 21, 'female', 'Canada', 35)\n",
            "(10, 'Elizabeth', 21, 'female', 'Canada', 10)\n",
            "(55, 'Elizabeth', 21, 'female', 'Canada', 55)\n",
            "(15, 'Elizabeth', 21, 'female', 'Canada', 15)\n",
            "(5, 'Elizabeth', 21, 'female', 'Canada', 5)\n",
            "(50, 'Elizabeth', 21, 'female', 'Canada', 50)\n",
            "(20, 'Elizabeth', 21, 'female', 'Canada', 20)\n",
            "(45, 'Elizabeth', 21, 'female', 'Canada', 45)\n",
            "(25, 'Elizabeth', 21, 'female', 'Canada', 25)\n",
            "(26, 'James', 25, 'male', 'USA', 26)\n",
            "(41, 'James', 25, 'male', 'USA', 41)\n",
            "(21, 'James', 25, 'male', 'USA', 21)\n",
            "(16, 'James', 25, 'male', 'USA', 16)\n",
            "(31, 'James', 25, 'male', 'USA', 31)\n",
            "(6, 'James', 25, 'male', 'USA', 6)\n",
            "(36, 'James', 25, 'male', 'USA', 36)\n",
            "(51, 'James', 25, 'male', 'USA', 51)\n",
            "(1, 'James', 25, 'male', 'USA', 1)\n",
            "(46, 'James', 25, 'male', 'USA', 46)\n",
            "(11, 'James', 25, 'male', 'USA', 11)\n",
            "(61, 'James', 25, 'male', 'USA', 61)\n",
            "(56, 'James', 25, 'male', 'USA', 56)\n",
            "(57, 'Leila', 32, 'female', 'France', 57)\n",
            "(2, 'Leila', 32, 'female', 'France', 2)\n",
            "(7, 'Leila', 32, 'female', 'France', 7)\n",
            "(12, 'Leila', 32, 'female', 'France', 12)\n",
            "(17, 'Leila', 32, 'female', 'France', 17)\n",
            "(22, 'Leila', 32, 'female', 'France', 22)\n",
            "(27, 'Leila', 32, 'female', 'France', 27)\n",
            "(32, 'Leila', 32, 'female', 'France', 32)\n",
            "(37, 'Leila', 32, 'female', 'France', 37)\n",
            "(42, 'Leila', 32, 'female', 'France', 42)\n",
            "(47, 'Leila', 32, 'female', 'France', 47)\n",
            "(52, 'Leila', 32, 'female', 'France', 52)\n",
            "(62, 'Leila', 32, 'female', 'France', 62)\n",
            "(53, 'Brigitte', 35, 'female', 'England', 53)\n",
            "(23, 'Brigitte', 35, 'female', 'England', 23)\n",
            "(63, 'Brigitte', 35, 'female', 'England', 63)\n",
            "(13, 'Brigitte', 35, 'female', 'England', 13)\n",
            "(48, 'Brigitte', 35, 'female', 'England', 48)\n",
            "(58, 'Brigitte', 35, 'female', 'England', 58)\n",
            "(43, 'Brigitte', 35, 'female', 'England', 43)\n",
            "(8, 'Brigitte', 35, 'female', 'England', 8)\n",
            "(28, 'Brigitte', 35, 'female', 'England', 28)\n",
            "(33, 'Brigitte', 35, 'female', 'England', 33)\n",
            "(18, 'Brigitte', 35, 'female', 'England', 18)\n",
            "(38, 'Brigitte', 35, 'female', 'England', 38)\n",
            "(3, 'Brigitte', 35, 'female', 'England', 3)\n",
            "(39, 'Mike', 40, 'male', 'Denmark', 39)\n",
            "(44, 'Mike', 40, 'male', 'Denmark', 44)\n",
            "(24, 'Mike', 40, 'male', 'Denmark', 24)\n",
            "(49, 'Mike', 40, 'male', 'Denmark', 49)\n",
            "(19, 'Mike', 40, 'male', 'Denmark', 19)\n",
            "(64, 'Mike', 40, 'male', 'Denmark', 64)\n",
            "(54, 'Mike', 40, 'male', 'Denmark', 54)\n",
            "(14, 'Mike', 40, 'male', 'Denmark', 14)\n",
            "(9, 'Mike', 40, 'male', 'Denmark', 9)\n",
            "(59, 'Mike', 40, 'male', 'Denmark', 59)\n",
            "(34, 'Mike', 40, 'male', 'Denmark', 34)\n",
            "(4, 'Mike', 40, 'male', 'Denmark', 4)\n",
            "(29, 'Mike', 40, 'male', 'Denmark', 29)\n"
          ]
        }
      ],
      "source": [
        "# использование оконных функций (с сортировкой)\n",
        "query_read = \"\"\"select\n",
        "                    id,\n",
        "                    name,\n",
        "                    age,\n",
        "                    gender,\n",
        "                    nationality,\n",
        "                    row_number() OVER () AS num\n",
        "             from users ORDER BY age\"\"\"\n",
        "try:\n",
        "    query_n_print(conn, query_read)\n",
        "except Exception as e:\n",
        "    print(\"запрос в БД не выполнен:\", e)"
      ]
    },
    {
      "cell_type": "code",
      "execution_count": null,
      "id": "4b021e96-9d2c-4456-b841-3baf87072efc",
      "metadata": {
        "id": "4b021e96-9d2c-4456-b841-3baf87072efc",
        "outputId": "97837139-5cc7-467a-e9ec-7cc36d7acca0"
      },
      "outputs": [
        {
          "name": "stdout",
          "output_type": "stream",
          "text": [
            "Выполнен следующий запрос к БД: 'select\n",
            "                    id,\n",
            "                    name,\n",
            "                    age,\n",
            "                    gender,\n",
            "                    nationality,\n",
            "                    row_number() OVER (ORDER BY name) AS num,\n",
            "                    rank() OVER (ORDER BY name) AS rnk\n",
            "             from users '\n",
            "Результат запроса: \n",
            "(28, 'Brigitte', 35, 'female', 'England', 1, 1)\n",
            "(38, 'Brigitte', 35, 'female', 'England', 2, 1)\n",
            "(3, 'Brigitte', 35, 'female', 'England', 3, 1)\n",
            "(63, 'Brigitte', 35, 'female', 'England', 4, 1)\n",
            "(18, 'Brigitte', 35, 'female', 'England', 5, 1)\n",
            "(33, 'Brigitte', 35, 'female', 'England', 6, 1)\n",
            "(48, 'Brigitte', 35, 'female', 'England', 7, 1)\n",
            "(58, 'Brigitte', 35, 'female', 'England', 8, 1)\n",
            "(23, 'Brigitte', 35, 'female', 'England', 9, 1)\n",
            "(8, 'Brigitte', 35, 'female', 'England', 10, 1)\n",
            "(43, 'Brigitte', 35, 'female', 'England', 11, 1)\n",
            "(53, 'Brigitte', 35, 'female', 'England', 12, 1)\n",
            "(13, 'Brigitte', 35, 'female', 'England', 13, 1)\n",
            "(55, 'Elizabeth', 21, 'female', 'Canada', 14, 14)\n",
            "(10, 'Elizabeth', 21, 'female', 'Canada', 15, 14)\n",
            "(45, 'Elizabeth', 21, 'female', 'Canada', 16, 14)\n",
            "(50, 'Elizabeth', 21, 'female', 'Canada', 17, 14)\n",
            "(65, 'Elizabeth', 21, 'female', 'Canada', 18, 14)\n",
            "(15, 'Elizabeth', 21, 'female', 'Canada', 19, 14)\n",
            "(5, 'Elizabeth', 21, 'female', 'Canada', 20, 14)\n",
            "(60, 'Elizabeth', 21, 'female', 'Canada', 21, 14)\n",
            "(20, 'Elizabeth', 21, 'female', 'Canada', 22, 14)\n",
            "(25, 'Elizabeth', 21, 'female', 'Canada', 23, 14)\n",
            "(30, 'Elizabeth', 21, 'female', 'Canada', 24, 14)\n",
            "(35, 'Elizabeth', 21, 'female', 'Canada', 25, 14)\n",
            "(40, 'Elizabeth', 21, 'female', 'Canada', 26, 14)\n",
            "(16, 'James', 25, 'male', 'USA', 27, 27)\n",
            "(61, 'James', 25, 'male', 'USA', 28, 27)\n",
            "(1, 'James', 25, 'male', 'USA', 29, 27)\n",
            "(46, 'James', 25, 'male', 'USA', 30, 27)\n",
            "(31, 'James', 25, 'male', 'USA', 31, 27)\n",
            "(51, 'James', 25, 'male', 'USA', 32, 27)\n",
            "(11, 'James', 25, 'male', 'USA', 33, 27)\n",
            "(56, 'James', 25, 'male', 'USA', 34, 27)\n",
            "(41, 'James', 25, 'male', 'USA', 35, 27)\n",
            "(6, 'James', 25, 'male', 'USA', 36, 27)\n",
            "(21, 'James', 25, 'male', 'USA', 37, 27)\n",
            "(36, 'James', 25, 'male', 'USA', 38, 27)\n",
            "(26, 'James', 25, 'male', 'USA', 39, 27)\n",
            "(57, 'Leila', 32, 'female', 'France', 40, 40)\n",
            "(2, 'Leila', 32, 'female', 'France', 41, 40)\n",
            "(7, 'Leila', 32, 'female', 'France', 42, 40)\n",
            "(12, 'Leila', 32, 'female', 'France', 43, 40)\n",
            "(17, 'Leila', 32, 'female', 'France', 44, 40)\n",
            "(22, 'Leila', 32, 'female', 'France', 45, 40)\n",
            "(27, 'Leila', 32, 'female', 'France', 46, 40)\n",
            "(32, 'Leila', 32, 'female', 'France', 47, 40)\n",
            "(37, 'Leila', 32, 'female', 'France', 48, 40)\n",
            "(42, 'Leila', 32, 'female', 'France', 49, 40)\n",
            "(47, 'Leila', 32, 'female', 'France', 50, 40)\n",
            "(52, 'Leila', 32, 'female', 'France', 51, 40)\n",
            "(62, 'Leila', 32, 'female', 'France', 52, 40)\n",
            "(44, 'Mike', 40, 'male', 'Denmark', 53, 53)\n",
            "(54, 'Mike', 40, 'male', 'Denmark', 54, 53)\n",
            "(39, 'Mike', 40, 'male', 'Denmark', 55, 53)\n",
            "(34, 'Mike', 40, 'male', 'Denmark', 56, 53)\n",
            "(29, 'Mike', 40, 'male', 'Denmark', 57, 53)\n",
            "(24, 'Mike', 40, 'male', 'Denmark', 58, 53)\n",
            "(59, 'Mike', 40, 'male', 'Denmark', 59, 53)\n",
            "(19, 'Mike', 40, 'male', 'Denmark', 60, 53)\n",
            "(14, 'Mike', 40, 'male', 'Denmark', 61, 53)\n",
            "(4, 'Mike', 40, 'male', 'Denmark', 62, 53)\n",
            "(9, 'Mike', 40, 'male', 'Denmark', 63, 53)\n",
            "(49, 'Mike', 40, 'male', 'Denmark', 64, 53)\n",
            "(64, 'Mike', 40, 'male', 'Denmark', 65, 53)\n"
          ]
        }
      ],
      "source": [
        "# использование оконных функций (рейтинг и нумерация)\n",
        "query_read = \"\"\"select\n",
        "                    id,\n",
        "                    name,\n",
        "                    age,\n",
        "                    gender,\n",
        "                    nationality,\n",
        "                    row_number() OVER (ORDER BY name) AS num,\n",
        "                    rank() OVER (ORDER BY name) AS rnk\n",
        "             from users \"\"\"\n",
        "try:\n",
        "    query_n_print(conn, query_read)\n",
        "except Exception as e:\n",
        "    print(\"запрос в БД не выполнен:\", e)"
      ]
    },
    {
      "cell_type": "code",
      "execution_count": null,
      "id": "274f104e-99c2-406f-96f5-ebba7dd8b1df",
      "metadata": {
        "id": "274f104e-99c2-406f-96f5-ebba7dd8b1df",
        "outputId": "a7bdd9fb-7dc5-4c33-83d1-08d2deab32a4"
      },
      "outputs": [
        {
          "name": "stdout",
          "output_type": "stream",
          "text": [
            "Выполнен следующий запрос к БД: 'select\n",
            "                    name,\n",
            "                    age,\n",
            "                    rank() OVER (ORDER BY name) AS rnk,\n",
            "                    sum(age) OVER (ORDER BY name) as mega_age\n",
            "             from users ORDER BY name'\n",
            "Результат запроса: \n",
            "('Brigitte', 35, 1, 455)\n",
            "('Brigitte', 35, 1, 455)\n",
            "('Brigitte', 35, 1, 455)\n",
            "('Brigitte', 35, 1, 455)\n",
            "('Brigitte', 35, 1, 455)\n",
            "('Brigitte', 35, 1, 455)\n",
            "('Brigitte', 35, 1, 455)\n",
            "('Brigitte', 35, 1, 455)\n",
            "('Brigitte', 35, 1, 455)\n",
            "('Brigitte', 35, 1, 455)\n",
            "('Brigitte', 35, 1, 455)\n",
            "('Brigitte', 35, 1, 455)\n",
            "('Brigitte', 35, 1, 455)\n",
            "('Elizabeth', 21, 14, 728)\n",
            "('Elizabeth', 21, 14, 728)\n",
            "('Elizabeth', 21, 14, 728)\n",
            "('Elizabeth', 21, 14, 728)\n",
            "('Elizabeth', 21, 14, 728)\n",
            "('Elizabeth', 21, 14, 728)\n",
            "('Elizabeth', 21, 14, 728)\n",
            "('Elizabeth', 21, 14, 728)\n",
            "('Elizabeth', 21, 14, 728)\n",
            "('Elizabeth', 21, 14, 728)\n",
            "('Elizabeth', 21, 14, 728)\n",
            "('Elizabeth', 21, 14, 728)\n",
            "('Elizabeth', 21, 14, 728)\n",
            "('James', 25, 27, 1053)\n",
            "('James', 25, 27, 1053)\n",
            "('James', 25, 27, 1053)\n",
            "('James', 25, 27, 1053)\n",
            "('James', 25, 27, 1053)\n",
            "('James', 25, 27, 1053)\n",
            "('James', 25, 27, 1053)\n",
            "('James', 25, 27, 1053)\n",
            "('James', 25, 27, 1053)\n",
            "('James', 25, 27, 1053)\n",
            "('James', 25, 27, 1053)\n",
            "('James', 25, 27, 1053)\n",
            "('James', 25, 27, 1053)\n",
            "('Leila', 32, 40, 1469)\n",
            "('Leila', 32, 40, 1469)\n",
            "('Leila', 32, 40, 1469)\n",
            "('Leila', 32, 40, 1469)\n",
            "('Leila', 32, 40, 1469)\n",
            "('Leila', 32, 40, 1469)\n",
            "('Leila', 32, 40, 1469)\n",
            "('Leila', 32, 40, 1469)\n",
            "('Leila', 32, 40, 1469)\n",
            "('Leila', 32, 40, 1469)\n",
            "('Leila', 32, 40, 1469)\n",
            "('Leila', 32, 40, 1469)\n",
            "('Leila', 32, 40, 1469)\n",
            "('Mike', 40, 53, 1989)\n",
            "('Mike', 40, 53, 1989)\n",
            "('Mike', 40, 53, 1989)\n",
            "('Mike', 40, 53, 1989)\n",
            "('Mike', 40, 53, 1989)\n",
            "('Mike', 40, 53, 1989)\n",
            "('Mike', 40, 53, 1989)\n",
            "('Mike', 40, 53, 1989)\n",
            "('Mike', 40, 53, 1989)\n",
            "('Mike', 40, 53, 1989)\n",
            "('Mike', 40, 53, 1989)\n",
            "('Mike', 40, 53, 1989)\n",
            "('Mike', 40, 53, 1989)\n"
          ]
        }
      ],
      "source": [
        "# использование оконных функций (sum() при заданной сортировке)\n",
        "query_read = \"\"\"select\n",
        "                    name,\n",
        "                    age,\n",
        "                    rank() OVER (ORDER BY name) AS rnk,\n",
        "                    sum(age) OVER (ORDER BY name) as mega_age\n",
        "             from users ORDER BY name\"\"\"\n",
        "try:\n",
        "    query_n_print(conn, query_read)\n",
        "except Exception as e:\n",
        "    print(\"запрос в БД не выполнен:\", e)"
      ]
    },
    {
      "cell_type": "code",
      "execution_count": null,
      "id": "0abb6434-dae0-4e21-8f96-b546a59c88e0",
      "metadata": {
        "id": "0abb6434-dae0-4e21-8f96-b546a59c88e0",
        "outputId": "b276d3c7-4694-4cf1-cc41-1697967e351c"
      },
      "outputs": [
        {
          "name": "stdout",
          "output_type": "stream",
          "text": [
            "Выполнен следующий запрос к БД: 'select\n",
            "                    rnk\n",
            "             from users'\n",
            "Результат запроса: \n",
            "запрос в БД не выполнен: column \"rnk\" does not exist\n",
            "LINE 2:                     rnk\n",
            "                            ^\n",
            "\n"
          ]
        }
      ],
      "source": [
        "# использование оконных функций (попытка доступа к ранее созданноому оконному полю rnk)\n",
        "query_read = \"\"\"select\n",
        "                    rnk\n",
        "             from users\"\"\"\n",
        "try:\n",
        "    query_n_print(conn, query_read)\n",
        "except Exception as e:\n",
        "    print(\"запрос в БД не выполнен:\", e)"
      ]
    },
    {
      "cell_type": "code",
      "execution_count": null,
      "id": "b6aafbaf-b1c7-48e8-b9b3-4d5a13f739de",
      "metadata": {
        "id": "b6aafbaf-b1c7-48e8-b9b3-4d5a13f739de",
        "outputId": "11ae055b-195c-4708-c2ad-22e8e6028226"
      },
      "outputs": [
        {
          "name": "stdout",
          "output_type": "stream",
          "text": [
            "Выполнен следующий запрос к БД: 'select\n",
            "            name,\n",
            "            age,\n",
            "            rank() OVER (ORDER BY name) AS rnk,\n",
            "            sum(age) OVER (ORDER BY name) as mega_age\n",
            "            from users ORDER BY name'\n",
            "Результат запроса: \n",
            "('Brigitte', 35, 1, 455)\n",
            "('Brigitte', 35, 1, 455)\n",
            "('Brigitte', 35, 1, 455)\n",
            "('Brigitte', 35, 1, 455)\n",
            "('Brigitte', 35, 1, 455)\n",
            "('Brigitte', 35, 1, 455)\n",
            "('Brigitte', 35, 1, 455)\n",
            "('Brigitte', 35, 1, 455)\n",
            "('Brigitte', 35, 1, 455)\n",
            "('Brigitte', 35, 1, 455)\n",
            "('Brigitte', 35, 1, 455)\n",
            "('Brigitte', 35, 1, 455)\n",
            "('Brigitte', 35, 1, 455)\n",
            "('Elizabeth', 21, 14, 728)\n",
            "('Elizabeth', 21, 14, 728)\n",
            "('Elizabeth', 21, 14, 728)\n",
            "('Elizabeth', 21, 14, 728)\n",
            "('Elizabeth', 21, 14, 728)\n",
            "('Elizabeth', 21, 14, 728)\n",
            "('Elizabeth', 21, 14, 728)\n",
            "('Elizabeth', 21, 14, 728)\n",
            "('Elizabeth', 21, 14, 728)\n",
            "('Elizabeth', 21, 14, 728)\n",
            "('Elizabeth', 21, 14, 728)\n",
            "('Elizabeth', 21, 14, 728)\n",
            "('Elizabeth', 21, 14, 728)\n",
            "('James', 25, 27, 1053)\n",
            "('James', 25, 27, 1053)\n",
            "('James', 25, 27, 1053)\n",
            "('James', 25, 27, 1053)\n",
            "('James', 25, 27, 1053)\n",
            "('James', 25, 27, 1053)\n",
            "('James', 25, 27, 1053)\n",
            "('James', 25, 27, 1053)\n",
            "('James', 25, 27, 1053)\n",
            "('James', 25, 27, 1053)\n",
            "('James', 25, 27, 1053)\n",
            "('James', 25, 27, 1053)\n",
            "('James', 25, 27, 1053)\n",
            "('Leila', 32, 40, 1469)\n",
            "('Leila', 32, 40, 1469)\n",
            "('Leila', 32, 40, 1469)\n",
            "('Leila', 32, 40, 1469)\n",
            "('Leila', 32, 40, 1469)\n",
            "('Leila', 32, 40, 1469)\n",
            "('Leila', 32, 40, 1469)\n",
            "('Leila', 32, 40, 1469)\n",
            "('Leila', 32, 40, 1469)\n",
            "('Leila', 32, 40, 1469)\n",
            "('Leila', 32, 40, 1469)\n",
            "('Leila', 32, 40, 1469)\n",
            "('Leila', 32, 40, 1469)\n",
            "('Mike', 40, 53, 1989)\n",
            "('Mike', 40, 53, 1989)\n",
            "('Mike', 40, 53, 1989)\n",
            "('Mike', 40, 53, 1989)\n",
            "('Mike', 40, 53, 1989)\n",
            "('Mike', 40, 53, 1989)\n",
            "('Mike', 40, 53, 1989)\n",
            "('Mike', 40, 53, 1989)\n",
            "('Mike', 40, 53, 1989)\n",
            "('Mike', 40, 53, 1989)\n",
            "('Mike', 40, 53, 1989)\n",
            "('Mike', 40, 53, 1989)\n",
            "('Mike', 40, 53, 1989)\n",
            "Выполнен следующий запрос к БД: 'select rnk from users'\n",
            "Результат запроса: \n",
            "запрос в БД не выполнен: column \"rnk\" does not exist\n",
            "LINE 1: select rnk from users\n",
            "               ^\n",
            "\n"
          ]
        }
      ],
      "source": [
        "# использование оконных функций (еще одна попытка доступа к ранее созданноому оконному полю rnk (в разных запросах))\n",
        "query_list = [\n",
        "    \"\"\"select\n",
        "            name,\n",
        "            age,\n",
        "            rank() OVER (ORDER BY name) AS rnk,\n",
        "            sum(age) OVER (ORDER BY name) as mega_age\n",
        "            from users ORDER BY name\"\"\",\n",
        "    \"\"\"select rnk from users\"\"\",\n",
        "]\n",
        "try:\n",
        "    for query in query_list:\n",
        "        query_n_print(conn, query)\n",
        "except Exception as e:\n",
        "    print(\"запрос в БД не выполнен:\", e)"
      ]
    },
    {
      "cell_type": "code",
      "execution_count": null,
      "id": "cd1be837-bd92-43df-9299-66e775d31d58",
      "metadata": {
        "id": "cd1be837-bd92-43df-9299-66e775d31d58",
        "outputId": "2526a032-a6b7-4674-8b8e-8e7ce1ef06e9"
      },
      "outputs": [
        {
          "name": "stdout",
          "output_type": "stream",
          "text": [
            "-- программа завершена --\n"
          ]
        }
      ],
      "source": [
        "# закрытие подключения к БД\n",
        "print(\"-- программа завершена --\")\n",
        "conn.close()"
      ]
    },
    {
      "cell_type": "code",
      "execution_count": null,
      "id": "0ff2a1f8-5708-499e-8f91-4897299f1c53",
      "metadata": {
        "id": "0ff2a1f8-5708-499e-8f91-4897299f1c53",
        "outputId": "277f0e89-89f6-4896-b33f-614a3639c94f"
      },
      "outputs": [
        {
          "name": "stdout",
          "output_type": "stream",
          "text": [
            "Выполнен следующий запрос к БД: 'SELECT * FROM users'\n",
            "Результат запроса: \n"
          ]
        },
        {
          "ename": "InterfaceError",
          "evalue": "connection already closed",
          "output_type": "error",
          "traceback": [
            "\u001b[0;31m---------------------------------------------------------------------------\u001b[0m",
            "\u001b[0;31mInterfaceError\u001b[0m                            Traceback (most recent call last)",
            "Cell \u001b[0;32mIn[8], line 3\u001b[0m\n\u001b[1;32m      1\u001b[0m \u001b[38;5;66;03m# получение всех записей из таблицы users\u001b[39;00m\n\u001b[1;32m      2\u001b[0m query_read \u001b[38;5;241m=\u001b[39m \u001b[38;5;124m\"\"\"\u001b[39m\u001b[38;5;124mSELECT * FROM users\u001b[39m\u001b[38;5;124m\"\"\"\u001b[39m\n\u001b[0;32m----> 3\u001b[0m \u001b[43mquery_n_print\u001b[49m\u001b[43m(\u001b[49m\u001b[43mconn\u001b[49m\u001b[43m,\u001b[49m\u001b[43m \u001b[49m\u001b[43mquery_read\u001b[49m\u001b[43m)\u001b[49m\n",
            "Cell \u001b[0;32mIn[3], line 40\u001b[0m, in \u001b[0;36mquery_n_print\u001b[0;34m(conn, query_read)\u001b[0m\n\u001b[1;32m     38\u001b[0m \u001b[38;5;28mprint\u001b[39m(\u001b[38;5;124mf\u001b[39m\u001b[38;5;124m\"\u001b[39m\u001b[38;5;124mВыполнен следующий запрос к БД: \u001b[39m\u001b[38;5;124m'\u001b[39m\u001b[38;5;132;01m{\u001b[39;00mquery_read\u001b[38;5;132;01m}\u001b[39;00m\u001b[38;5;124m'\u001b[39m\u001b[38;5;124m\"\u001b[39m)\n\u001b[1;32m     39\u001b[0m \u001b[38;5;28mprint\u001b[39m(\u001b[38;5;124m\"\u001b[39m\u001b[38;5;124mРезультат запроса: \u001b[39m\u001b[38;5;124m\"\u001b[39m)\n\u001b[0;32m---> 40\u001b[0m result \u001b[38;5;241m=\u001b[39m \u001b[43mquery_get\u001b[49m\u001b[43m(\u001b[49m\u001b[43mconn\u001b[49m\u001b[43m,\u001b[49m\u001b[43m \u001b[49m\u001b[43mquery_read\u001b[49m\u001b[43m)\u001b[49m\n\u001b[1;32m     41\u001b[0m \u001b[38;5;28;01mfor\u001b[39;00m row \u001b[38;5;129;01min\u001b[39;00m result:\n\u001b[1;32m     42\u001b[0m     \u001b[38;5;28mprint\u001b[39m(row)\n",
            "Cell \u001b[0;32mIn[3], line 22\u001b[0m, in \u001b[0;36mquery_get\u001b[0;34m(conn, query)\u001b[0m\n\u001b[1;32m     21\u001b[0m \u001b[38;5;28;01mdef\u001b[39;00m \u001b[38;5;21mquery_get\u001b[39m(conn, query: \u001b[38;5;28mstr\u001b[39m) \u001b[38;5;241m-\u001b[39m\u001b[38;5;241m>\u001b[39m \u001b[38;5;28mdict\u001b[39m:\n\u001b[0;32m---> 22\u001b[0m     \u001b[38;5;28;01mwith\u001b[39;00m \u001b[43mconn\u001b[49m\u001b[38;5;241;43m.\u001b[39;49m\u001b[43mcursor\u001b[49m\u001b[43m(\u001b[49m\u001b[43m)\u001b[49m \u001b[38;5;28;01mas\u001b[39;00m curs:\n\u001b[1;32m     23\u001b[0m         curs\u001b[38;5;241m.\u001b[39mexecute(query)\n\u001b[1;32m     24\u001b[0m         result \u001b[38;5;241m=\u001b[39m curs\u001b[38;5;241m.\u001b[39mfetchall()\n",
            "\u001b[0;31mInterfaceError\u001b[0m: connection already closed"
          ]
        }
      ],
      "source": [
        "# попытка доступа к БД при закрытом подключении (получение всех записей из таблицы users) >> Ошибка\n",
        "query_read = \"\"\"SELECT * FROM users\"\"\"\n",
        "query_n_print(conn, query_read)"
      ]
    },
    {
      "cell_type": "code",
      "execution_count": null,
      "id": "fb0159b7-6fc6-417c-9127-8c9b1a401557",
      "metadata": {
        "id": "fb0159b7-6fc6-417c-9127-8c9b1a401557",
        "outputId": "9376e354-aba6-4352-d058-63da474a0e2f"
      },
      "outputs": [
        {
          "name": "stdout",
          "output_type": "stream",
          "text": [
            "\n",
            "Соединение с БД установлено <connection object at 0x109f374c0; dsn: 'user=admin password=xxx dbname=admin host=0.0.0.0 port=5432', closed: 0> \n",
            "\n"
          ]
        }
      ],
      "source": [
        "from psycopg2 import connect as connect\n",
        "# функция проверки подключения к БД\n",
        "def _get_db_session():\n",
        "    try:\n",
        "        conn = connect(\n",
        "            dbname='admin',\n",
        "            user='admin',\n",
        "            password='admin',\n",
        "            host='0.0.0.0',\n",
        "            port=5432)\n",
        "        print(\"\\nСоединение с БД установлено\", conn, \"\\n\")\n",
        "        return conn\n",
        "    except Exception as e:\n",
        "        print('БД не доступна. Проверьте Docker', e)\n",
        "        return False\n",
        "# проверкв подключения к БД\n",
        "dbconnect = _get_db_session()\n",
        "if dbconnect is False:\n",
        "    print(\"БД не подключена. \\nПрограмма завершена\")\n",
        "else:\n",
        "    conn = dbconnect"
      ]
    },
    {
      "cell_type": "code",
      "execution_count": null,
      "id": "a2b75b43-06b0-4e4a-a227-22c72cbeff08",
      "metadata": {
        "id": "a2b75b43-06b0-4e4a-a227-22c72cbeff08"
      },
      "outputs": [],
      "source": []
    }
  ],
  "metadata": {
    "kernelspec": {
      "display_name": "Python 3 (ipykernel)",
      "language": "python",
      "name": "python3"
    },
    "language_info": {
      "codemirror_mode": {
        "name": "ipython",
        "version": 3
      },
      "file_extension": ".py",
      "mimetype": "text/x-python",
      "name": "python",
      "nbconvert_exporter": "python",
      "pygments_lexer": "ipython3",
      "version": "3.12.1"
    },
    "colab": {
      "provenance": [],
      "include_colab_link": true
    }
  },
  "nbformat": 4,
  "nbformat_minor": 5
}
