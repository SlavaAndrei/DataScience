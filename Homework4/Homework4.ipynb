{
  "nbformat": 4,
  "nbformat_minor": 0,
  "metadata": {
    "colab": {
      "provenance": [],
      "include_colab_link": true
    },
    "kernelspec": {
      "name": "python3",
      "display_name": "Python 3"
    },
    "language_info": {
      "name": "python"
    }
  },
  "cells": [
    {
      "cell_type": "markdown",
      "metadata": {
        "id": "view-in-github",
        "colab_type": "text"
      },
      "source": [
        "<a href=\"https://colab.research.google.com/github/SlavaAndrei/DataScience/blob/main/Homework4/Homework4.ipynb\" target=\"_parent\"><img src=\"https://colab.research.google.com/assets/colab-badge.svg\" alt=\"Open In Colab\"/></a>"
      ]
    },
    {
      "cell_type": "markdown",
      "source": [
        "# Задание 4"
      ],
      "metadata": {
        "id": "YqQsIBr6ivGF"
      }
    },
    {
      "cell_type": "markdown",
      "source": [
        "4. Создание Экземпляра: Создайте объект my_car класса Car и выведите его атрибуты.\n",
        "9. Добавление Статического Метода: Добавьте статический метод в класс Car, который будет выводить общее количество автомобилей.\n",
        "15. Реализация Итератора: Реализуйте итератор в классе CarPark, который позволяет перебирать объекты Car, находящиеся в парке."
      ],
      "metadata": {
        "id": "tCmC4VLpiaow"
      }
    },
    {
      "cell_type": "code",
      "execution_count": 3,
      "metadata": {
        "colab": {
          "base_uri": "https://localhost:8080/"
        },
        "id": "VixdW5tSh-lP",
        "outputId": "e60f485f-da6a-4058-bd22-46eb9d1968d1"
      },
      "outputs": [
        {
          "output_type": "stream",
          "name": "stdout",
          "text": [
            "Созданы объекты класса Car:\n",
            "brand: Lexus, year: 2020\n",
            "brand: Volvo, year: 2023\n",
            "brand: Volkswagen, year: 2018\n",
            "\n",
            "Количество созданных объектов класса Car: 3\n",
            "\n",
            "Объекты Car в гараже (в классе CarPark):\n",
            "brand: Toyota, year: 1998\n",
            "brand: JAC, year: 2012\n",
            "brand: Lexus, year: 2020\n",
            "brand: Volvo, year: 2023\n",
            "brand: Volkswagen, year: 2018\n",
            "\n",
            "Количество созданных объектов класса Car: 5\n"
          ]
        }
      ],
      "source": [
        "class Car:\n",
        "\n",
        "    cnt_car: int = 0\n",
        "\n",
        "    def __init__(self, brand: str, year: int):\n",
        "        self.__brand = brand\n",
        "        self.__year = year\n",
        "        self.__class__.cnt_car += 1\n",
        "\n",
        "    def __str__(self):\n",
        "        return f\"brand: {self.__brand}, year: {self.__year}\"\n",
        "\n",
        "    @property\n",
        "    def brand(self):\n",
        "        return self.__brand\n",
        "\n",
        "    @brand.setter\n",
        "    def brand(self, brand: str):\n",
        "        self.__brand = brand\n",
        "\n",
        "    @property\n",
        "    def year(self):\n",
        "        return self.__year\n",
        "\n",
        "    @year.setter\n",
        "    def year(self, year: int):\n",
        "        self.__year = year\n",
        "\n",
        "    @staticmethod\n",
        "    def get_cnt_car():\n",
        "        return Car.cnt_car\n",
        "\n",
        "\n",
        "class CarPark:\n",
        "\n",
        "    def __init__(self):\n",
        "        self.park = []\n",
        "\n",
        "    def add(self, car):\n",
        "        self.park.append(car)\n",
        "\n",
        "    def __iter__(self):\n",
        "        return self\n",
        "\n",
        "    def __next__(self):\n",
        "        if self.park == []:\n",
        "            raise StopIteration\n",
        "        item = self.park[0]\n",
        "        del self.park[0]\n",
        "        return item\n",
        "\n",
        "\n",
        "# Создание экземпляров класса\n",
        "my_car = Car(\"Lexus\", 2020)\n",
        "my_car2 = Car(\"Volvo\", 2023)\n",
        "my_car3 = Car(\"Volkswagen\", 2018)\n",
        "print(\"Созданы объекты класса Car:\")\n",
        "print(my_car)\n",
        "print(my_car2)\n",
        "print(my_car3)\n",
        "\n",
        "# Получение количества созданных экземпляров класса с использованием статического метода\n",
        "print(f\"\\nКоличество созданных объектов класса Car: {Car.get_cnt_car()}\")\n",
        "\n",
        "# Использование пользовательского итератора для перебора экземпляров класса внутри класса\n",
        "park = CarPark()\n",
        "park.add(Car(\"Toyota\", 1998))\n",
        "park.add(Car(\"JAC\", 2012))\n",
        "park.add(my_car)\n",
        "park.add(my_car2)\n",
        "park.add(my_car3)\n",
        "\n",
        "print(\"\\nОбъекты Car в гараже (в классе CarPark):\")\n",
        "for car in park:\n",
        "    print(car)\n",
        "\n",
        "# Получение количества созданных экземпляров класса с использованием статического метода\n",
        "print(f\"\\nКоличество созданных объектов класса Car: {Car.get_cnt_car()}\")\n"
      ]
    }
  ]
}