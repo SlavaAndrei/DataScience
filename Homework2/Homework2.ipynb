{
  "nbformat": 4,
  "nbformat_minor": 0,
  "metadata": {
    "colab": {
      "provenance": [],
      "include_colab_link": true
    },
    "kernelspec": {
      "name": "python3",
      "display_name": "Python 3"
    },
    "language_info": {
      "name": "python"
    }
  },
  "cells": [
    {
      "cell_type": "markdown",
      "metadata": {
        "id": "view-in-github",
        "colab_type": "text"
      },
      "source": [
        "<a href=\"https://colab.research.google.com/github/SlavaAndrei/DataScience/blob/main/Homework2/Homework2.ipynb\" target=\"_parent\"><img src=\"https://colab.research.google.com/assets/colab-badge.svg\" alt=\"Open In Colab\"/></a>"
      ]
    },
    {
      "cell_type": "code",
      "source": [
        "\n",
        "##Написать функцию, которая принимает список чисел и возвращает их сумму.\n",
        "\n",
        "scores = [1,2,3,4,5,6,7,8,9,10]\n",
        "length=len(scores)\n",
        "sum=0\n",
        "for i in range(length):\n",
        "                print ('Число #', i, '- ', scores[i])\n",
        "                sum = sum + scores[i]\n",
        "print ('Сумма чисел =', sum)\n",
        "\n",
        "## Сложность 2/10"
      ],
      "metadata": {
        "id": "lMuUp0pLwKQ0",
        "colab": {
          "base_uri": "https://localhost:8080/"
        },
        "outputId": "50bc2385-4b6f-4fd5-fca7-a976bfca86c4"
      },
      "execution_count": null,
      "outputs": [
        {
          "output_type": "stream",
          "name": "stdout",
          "text": [
            "Число # 0 -  1\n",
            "Число # 1 -  2\n",
            "Число # 2 -  3\n",
            "Число # 3 -  4\n",
            "Число # 4 -  5\n",
            "Число # 5 -  6\n",
            "Число # 6 -  7\n",
            "Число # 7 -  8\n",
            "Число # 8 -  9\n",
            "Число # 9 -  10\n",
            "Сумма чисел = 55\n"
          ]
        }
      ]
    },
    {
      "cell_type": "code",
      "source": [
        "## или так:\n",
        "\n",
        "def sumList(lst):\n",
        "    sum = 0\n",
        "    for x in lst:\n",
        "        sum += x\n",
        "    return sum\n",
        "\n",
        "mylist = [1, 2, 5, 7, 20]\n",
        "s = sumList(mylist)\n",
        "\n",
        "print(f'Сумма списка {mylist} равна {s}')\n",
        "\n",
        "## сложность 2/10"
      ],
      "metadata": {
        "id": "Dkym0oowwKoa",
        "colab": {
          "base_uri": "https://localhost:8080/"
        },
        "outputId": "89652858-6d99-4927-efeb-b6d106290f26"
      },
      "execution_count": null,
      "outputs": [
        {
          "output_type": "stream",
          "name": "stdout",
          "text": [
            "Сумма списка [1, 2, 5, 7, 20] равна 35\n"
          ]
        }
      ]
    },
    {
      "cell_type": "code",
      "execution_count": null,
      "metadata": {
        "colab": {
          "base_uri": "https://localhost:8080/"
        },
        "id": "TH1hqKr1wB40",
        "outputId": "bede0d4e-6165-4e3d-c261-ce51730bb873"
      },
      "outputs": [
        {
          "output_type": "stream",
          "name": "stdout",
          "text": [
            "Первый список [1, 2, 3, 4, 5, 6, 7, 8, 9, 10, 11, 12, 13, 14, 15, 16, 17, 18, 19, 20]\n",
            "Второй список [2, 4, 6, 8, 10, 12, 14, 16, 18, 20]\n"
          ]
        }
      ],
      "source": [
        "##Создать список чисел от 1 до 20, а затем создать новый список, содержащий только четные числа из первого списка.\n",
        "\n",
        "scores = [1, 2, 3, 4, 5, 6, 7, 8, 9, 10, 11, 12, 13, 14, 15, 16, 17, 18, 19, 20]\n",
        "print('Первый список', scores)\n",
        "evenscores = []\n",
        "\n",
        "length = len(scores)\n",
        "for i in range(length):\n",
        " if scores[i] % 2 == 0:\n",
        "  even = scores[i]\n",
        "  evenscores.append(even)\n",
        "print ('Второй список', evenscores)\n",
        "\n",
        "## Сложность 4/10"
      ]
    }
  ]
}